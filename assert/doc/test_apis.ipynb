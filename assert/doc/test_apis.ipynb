{
 "cells": [
  {
   "metadata": {},
   "cell_type": "markdown",
   "source": "以下是每个接口的单元测试样例",
   "id": "4c5c298f1092705d"
  },
  {
   "metadata": {},
   "cell_type": "markdown",
   "source": "",
   "id": "a8f2fdd404de8311"
  },
  {
   "metadata": {},
   "cell_type": "markdown",
   "source": [
    "### CRUD处理\n",
    "注1：默认url设定为localhost:8000,如实际设定有所不同，请按实际情况修改\n",
    "注2：以下是在已经存在一个名为test_kb1的知识库的情况下进行测试的，结果只作为演示，彼此并没有顺序关系。"
   ],
   "id": "26a9e5b371b499ba"
  },
  {
   "metadata": {
    "ExecuteTime": {
     "end_time": "2024-09-23T14:41:26.680328Z",
     "start_time": "2024-09-23T14:41:26.601095Z"
    }
   },
   "cell_type": "code",
   "source": [
    "# 2) 知识库列表展示 list_kb\n",
    "import json\n",
    "import requests\n",
    "response = requests.get(\n",
    "    url='http://localhost:8000/mme/list_kb',\n",
    ")\n",
    "print(json.dumps(response.json(), indent=4, ensure_ascii=False))"
   ],
   "id": "734d0ce8458f60b0",
   "outputs": [
    {
     "name": "stdout",
     "output_type": "stream",
     "text": [
      "{\n",
      "    \"code\": 200,\n",
      "    \"msg\": \"展示所有collection\",\n",
      "    \"data\": {\n",
      "        \"collection_list\": [\n",
      "            \"test_eb\"\n",
      "        ]\n",
      "    }\n",
      "}\n"
     ]
    }
   ],
   "execution_count": 1
  },
  {
   "metadata": {},
   "cell_type": "code",
   "outputs": [],
   "execution_count": null,
   "source": [
    "# 3) 展示知识库的细节信息 list_kb_details\n",
    "import json\n",
    "import requests\n",
    "response = requests.get(\n",
    "    url='http://localhost:8000/mme/list_kb_details',\n",
    ")\n",
    "print(json.dumps(response.json(), indent=4, ensure_ascii=False))"
   ],
   "id": "d836aceee8d4abd4"
  },
  {
   "metadata": {},
   "cell_type": "code",
   "outputs": [],
   "execution_count": null,
   "source": [
    "# 4) 展示具体collection\n",
    "import json\n",
    "import requests\n",
    "response = requests.get(\n",
    "    url='http://localhost:8000/mme/list_sub_db',\n",
    "    json='test_kb1',\n",
    "    headers={'Content-Type': 'application/json'}\n",
    ")\n",
    "print(json.dumps(response.json(), indent=4, ensure_ascii=False))"
   ],
   "id": "f297682889cc8107"
  },
  {
   "metadata": {},
   "cell_type": "code",
   "outputs": [],
   "execution_count": null,
   "source": [
    "# 5) 创建新的知识库\n",
    "import json\n",
    "import requests\n",
    "response = requests.post(\n",
    "    url='http://localhost:8000/mme/create_kb',\n",
    "    json='test_kb1',\n",
    "    headers={'Content-Type': 'application/json'}\n",
    ")\n",
    "print(json.dumps(response.json(), indent=4, ensure_ascii=False))"
   ],
   "id": "626e275222805826"
  },
  {
   "metadata": {},
   "cell_type": "code",
   "outputs": [],
   "execution_count": null,
   "source": [
    "# 6) 删除数据库\n",
    "import json\n",
    "import requests\n",
    "response = requests.post(\n",
    "    url='http://localhost:8000/mme/delete_kb',\n",
    "    json='test_kb1',\n",
    "    headers={'Content-Type': 'application/json'}\n",
    ")\n",
    "print(json.dumps(response.json(), indent=4, ensure_ascii=False))"
   ],
   "id": "af07c8a4d2905ca8"
  },
  {
   "metadata": {},
   "cell_type": "code",
   "outputs": [],
   "execution_count": null,
   "source": [
    "# 7) 清空所有知识库\n",
    "import json\n",
    "import requests\n",
    "response = requests.post(\n",
    "    url='http://localhost:8000/mme/drop_all_kb',\n",
    ")\n",
    "print(json.dumps(response.json(), indent=4, ensure_ascii=False))"
   ],
   "id": "9566fceccb2979e"
  },
  {
   "metadata": {},
   "cell_type": "code",
   "outputs": [],
   "execution_count": null,
   "source": "",
   "id": "c87fe348b41d3b5d"
  },
  {
   "metadata": {},
   "cell_type": "code",
   "outputs": [],
   "execution_count": null,
   "source": [
    "# 8) 添加内容到知识库里\n",
    "import os\n",
    "import json\n",
    "import requests\n",
    "from config.mme_rag_config import dataset_dir\n",
    "data = {\n",
    "    'collection_name' : 'test_kb1',\n",
    "}\n",
    "file_path = '/your/file/path'\n",
    "with open(file_path, \"rb\") as f:\n",
    "    # 准备上传的文件数据\n",
    "    files = {\"file\": (file_path, f)}\n",
    "    response = requests.post(\n",
    "        url='http://localhost:8000/mme/add_docs',\n",
    "        files=files,\n",
    "        data=data,\n",
    "    )\n",
    "print(json.dumps(response.json(), indent=4, ensure_ascii=False))"
   ],
   "id": "299342fa7981737"
  },
  {
   "metadata": {},
   "cell_type": "code",
   "outputs": [],
   "execution_count": null,
   "source": [
    "# 9)删除docs\n",
    "data = {\n",
    "    'collection_name' : 'test_kb1',\n",
    "    'source_id' : 'f75bd71d-3301-4191-a4fe-7dd4d2999255',\n",
    "}\n",
    "response = requests.post(\n",
    "    url='http://localhost:8000/mme/delete_docs',\n",
    "    json=data,\n",
    "    headers={'Content-Type': 'application/json'}\n",
    ")\n",
    "\n",
    "print(json.dumps(response.json(), indent=4, ensure_ascii=False))"
   ],
   "id": "9b93b5da77314fca"
  },
  {
   "metadata": {},
   "cell_type": "markdown",
   "source": "### 核心API测试",
   "id": "9199e382abafd645"
  },
  {
   "metadata": {},
   "cell_type": "code",
   "outputs": [],
   "execution_count": null,
   "source": [
    "# 10）向量检索\n",
    "import json\n",
    "import requests\n",
    "data = {\n",
    "    'collection_name' : 'test_kb1',\n",
    "    'text': '拓跋弘哪年死的？',\n",
    "    'top_k' : 5,\n",
    "}\n",
    "\n",
    "response = requests.post(\n",
    "    url='http://localhost:8000/mme/vector_search',\n",
    "    json=data,\n",
    "    headers={'Content-Type': 'application/json'}\n",
    ")\n",
    "print(json.dumps(response.json(), indent=4, ensure_ascii=False))"
   ],
   "id": "40bdd7eb70f98ca4"
  },
  {
   "metadata": {},
   "cell_type": "code",
   "outputs": [],
   "execution_count": null,
   "source": [
    "# 11）一般qa\n",
    "import json\n",
    "import requests\n",
    "data = {\n",
    "    'query': '你好，你是谁',\n",
    "    'api_key': \"请输入你自己的apikey\",\n",
    "    'model_id': 'glm-4-flash'\n",
    "}\n",
    "response = requests.post(\n",
    "    url = 'http://localhost:8000/mme/chat_qa',\n",
    "    data=json.dumps(data),\n",
    "    headers={'Content-Type': 'application/json'}\n",
    "    )\n",
    "print(json.dumps(response.json(), indent=4, ensure_ascii=False))"
   ],
   "id": "362fdf58e26c471e"
  },
  {
   "metadata": {},
   "cell_type": "code",
   "outputs": [],
   "execution_count": null,
   "source": [
    "# 12）普通rag问答\n",
    "import json\n",
    "import requests\n",
    "data = {\n",
    "            'query': '介绍一下高欢',\n",
    "            'collection_name' : 'test_kb1',\n",
    "            'top_k' : 5,\n",
    "            'api_key' : '请输入你自己的apikey',\n",
    "            'model_id' : 'glm-4-flash'\n",
    "        }\n",
    "response = requests.post(\n",
    "    url='http://localhost:8000/mme/naive_rag_qa',\n",
    "    data=json.dumps(data),\n",
    "    headers={'Content-Type': 'application/json'}\n",
    ")\n",
    "print(json.dumps(response.json(), indent=4, ensure_ascii=False))"
   ],
   "id": "48b00cbc18dfcf8b"
  },
  {
   "metadata": {},
   "cell_type": "code",
   "outputs": [],
   "execution_count": null,
   "source": [
    "# 13）高级rag问答\n",
    "import json\n",
    "import requests\n",
    "data = {\n",
    "        'query': '介绍一下高欢',\n",
    "        'collection_name': 'test_kb1',\n",
    "        'top_k': 10,\n",
    "        'num_candidates': 100,\n",
    "        'is_rerank': True,\n",
    "        'is_rewritten': True,\n",
    "        'search_method': 'search_by_vector',\n",
    "        'model_id' : 'glm-4-flash'\n",
    "    }\n",
    "response = requests.post(\n",
    "    url='http://localhost:8000/mme/advanced_rag_qa',\n",
    "    data=json.dumps(data),\n",
    "    headers={'Content-Type': 'application/json'}\n",
    ")\n",
    "print(json.dumps(response.json(), indent=4, ensure_ascii=False))"
   ],
   "id": "ab9e79d974b91fe5"
  }
 ],
 "metadata": {
  "kernelspec": {
   "display_name": "Python 3",
   "language": "python",
   "name": "python3"
  },
  "language_info": {
   "codemirror_mode": {
    "name": "ipython",
    "version": 2
   },
   "file_extension": ".py",
   "mimetype": "text/x-python",
   "name": "python",
   "nbconvert_exporter": "python",
   "pygments_lexer": "ipython2",
   "version": "2.7.6"
  }
 },
 "nbformat": 4,
 "nbformat_minor": 5
}
